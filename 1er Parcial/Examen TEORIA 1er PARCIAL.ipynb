{
 "cells": [
  {
   "cell_type": "markdown",
   "metadata": {},
   "source": [
    "# Examen de Teoria (1er parcial)\n",
    "\n",
    "Totes les preguntes valen 2 punts. Aquest examen s'ha de realitzar en un temps màxim de 30 minuts."
   ]
  },
  {
   "cell_type": "markdown",
   "metadata": {},
   "source": [
    "**Pregunta 1**: Donada una taula formada per files del següent tipus:\n",
    "\n",
    "| ID Pacient    | Medicament_1  | Medicament_2 | ... | Medicament_n | Resultat |\n",
    "| ------------- | ------------- | -----        | --- | ------------ | ---------|\n",
    "| 234534        | AV4           | BG7G         | ... |  NIL         | 1        |\n",
    "| 345647        | JGG           | JBSU         | ... |  HGJKH       | 0        |\n",
    "| 984556        | RE6           | JUHG         | ... |  NIL         | 1        |\n",
    "\n",
    "on ``Medicament_i`` és l'ièssim medicament que es va pendre un pacient durant un tractament i ``Resultat`` val 1 quan el pacient tenir efectes no desitjats (i 0 si no en va tenir), com detectaries possibles interaccions perilloses (efectes laterals no desitjats) entre medicaments? "
   ]
  },
  {
   "cell_type": "markdown",
   "metadata": {},
   "source": [
    "*Resposta*\n",
    "EL que faria seria eliminar totes aquelles dades inferior a 1, ja que no van tenir reaccions. Després calcularia cuantes aparicions apareixen de cada medicament, això vol dir que estaria utilitzant el algorisme Apriori. la següent iteració resetejant els contadors, contaria cuantes parelles surten i així succesivament. Al final si no obtenim diferents tipus de barrejes on podriem detectar interaccions perilloses."
   ]
  },
  {
   "cell_type": "markdown",
   "metadata": {},
   "source": [
    "**Pregunta 2**: Quin és el problema del *cold-start* en recomanació i com podem afrontar-lo? "
   ]
  },
  {
   "cell_type": "markdown",
   "metadata": {},
   "source": [
    "*Resposta*\n",
    "\n",
    "En els recomanadors, aquest problema ve donat quan afegim un usuari o un item nou. Aquest usuari/item no te gens informació o suficient informació necessaria per ser recomenat. \n",
    "\n",
    "Ho podem solucionar incitant al públic que ho compri o agafant items semblants per el tipus de contigut, és a dir, per exemple si afegeixo un item A: \"llibre nou La casa encantada\" de tipus thriller, donat un altre llibre com la momia encantada també de tipus thriller, com son del mateix tipus de categoria, ho podria recomenar. Això succeeix per exemple en Amazon, articles de novetat. "
   ]
  },
  {
   "cell_type": "markdown",
   "metadata": {},
   "source": [
    "**Pregunta 3**: Per què diem que la *distància euclidiana* és pitjor que el *coeficient de correlació de\n",
    "Pearson* per certs problemes de recomanació?"
   ]
  },
  {
   "cell_type": "markdown",
   "metadata": {},
   "source": [
    "*Resposta*\n",
    "Es pitjor la disància euclidiana, perquè el coeficient de correlació pearson no és sensible a la inflació de puntuació dels usuaris, és a dir, per exemple un usuari A la seva puntuació màxima es un 8 mentre que un usuari B la puntuació màxima es un 10. Donant així similituds amb menys error.\n",
    "A = [8,7,5,3]\n",
    "B = [10,9,7,5]"
   ]
  },
  {
   "cell_type": "markdown",
   "metadata": {},
   "source": [
    "**Pregunta 4**: En el marc dels models probabilístics del llenguatge, és absolutament correcte aquesta fòrmula o és una aproximació? Justifica-ho.\n",
    "\n",
    "$$\n",
    "\\begin{equation}\n",
    "P(W_{1:n}) = P(W_n) \\times P(W_{n-1} | W_{n}) \\times P(W_{n-2} | W_{n-1}, W_{n}) \\times \\dots \\times P(W_{1} | W_{2}, \\dots, W_{n})\n",
    "\\end{equation}\n",
    "$$"
   ]
  },
  {
   "cell_type": "markdown",
   "metadata": {},
   "source": [
    "*Resposta*\n",
    "Aquesta formula no es del tot correcte, és una aproximació.  Ens indica la probabilitat de la paraula(a) x la probabilitat condicional de la paraula b respecte a la anterior que és a i axí succesivament. "
   ]
  },
  {
   "cell_type": "markdown",
   "metadata": {},
   "source": [
    "**Pregunta 5:** Què és la funció de distribució mostral de la mitjana? Com en podem obtebir una aproximació amb tènciques de *shuffling*?"
   ]
  },
  {
   "cell_type": "markdown",
   "metadata": {},
   "source": [
    "*Resposta*\n",
    "La distribució mostral de la mitjana parteix el següent algorisme:\n",
    "Donades dos mostres de n tamany, calculo la mitja de cada escuna de les mides. Després calculo la diferència de les mitjanes. I finalment calculo la probabilitat que a partir d'aquesta diferencia fins al final. \n",
    "La tecnica de suffling podem obtenir una aproximació amb els següents passos:\n",
    "Donades dos mostres calculem la logitud de cada mostra.\n",
    "Després concatenem les dues mostres i fem un suffling(una barreja aleatoria) de tota la mostra.\n",
    "Finalment tallem la mostra amb les longituds de les mostres originals.\n",
    "Així obtenim un generador de mostres i podem fer-ho tantes vegades volguem, donant aixi una millor aproximació. "
   ]
  }
 ],
 "metadata": {
  "kernel_info": {
   "name": "python3"
  },
  "kernelspec": {
   "display_name": "Python 3",
   "language": "python",
   "name": "python3"
  },
  "language_info": {
   "codemirror_mode": {
    "name": "ipython",
    "version": 3
   },
   "file_extension": ".py",
   "mimetype": "text/x-python",
   "name": "python",
   "nbconvert_exporter": "python",
   "pygments_lexer": "ipython3",
   "version": "3.7.3"
  },
  "nteract": {
   "version": "0.12.3"
  }
 },
 "nbformat": 4,
 "nbformat_minor": 2
}
