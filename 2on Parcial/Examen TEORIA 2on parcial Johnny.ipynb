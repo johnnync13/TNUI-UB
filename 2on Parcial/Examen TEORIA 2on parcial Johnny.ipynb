{
 "cells": [
  {
   "cell_type": "markdown",
   "metadata": {},
   "source": [
    "# Examen de Teoria (2on parcial)\n",
    "\n",
    "Totes les preguntes valen 2 punts. Aquest examen s'ha de realitzar en un temps màxim de 30 minuts."
   ]
  },
  {
   "cell_type": "markdown",
   "metadata": {},
   "source": [
    "**Pregunta 1**: En problemes d'exploració-explotació podem usar la funció `SoftMax` junt amb els mètodes ϵ-voraços. Quin objectiu té usar aquesta funció?"
   ]
  },
  {
   "cell_type": "markdown",
   "metadata": {},
   "source": [
    "Aquesta funcio te com a objectiu triar accions amb una funcio que les distribueixi en funcio del seu valor estimat, es a dir, al final el que fem es escogir una accio amb probabilitat x. La funcio soft-max te una variable temperatura on tenim 3 casos:\n",
    "\n",
    "- T=0 es voraç pur\n",
    "- T=alt accions son equiprobables\n",
    "- T=baix fa que les probabibilitats al escogir les accions siguin molt diferent en funció del valor estimat"
   ]
  },
  {
   "cell_type": "markdown",
   "metadata": {},
   "source": [
    "**Pregunta 2**: Com definiries una xarxa de món petit? Quines propietats tenen aquestes xarxes?"
   ]
  },
  {
   "cell_type": "markdown",
   "metadata": {},
   "source": [
    "Una xarxa de món petit es un graf on qualsevol node pot estar connectat a qualsevol altre node del graf a través de una cadena de coneguts o adjacents que no te mes de 5 intermediaris, es a dir, entre el graf A - X es connecten amb nomes sis enllaços.\n",
    "I ara si canviem els nodes per persones seria una xarxa social, on els enllaços són la relació entre ells i podem veurem molts dels fenòmens de les xarxes de món petit"
   ]
  },
  {
   "cell_type": "markdown",
   "metadata": {},
   "source": [
    "**Pregunta 3**: Què volem dir exactament quan diem que un algorisme potser no és sempre \"just\" (des d'un punt de vista ètic)? Posa algun exemple pràctic. "
   ]
  },
  {
   "cell_type": "markdown",
   "metadata": {},
   "source": [
    "Un algorisme no sempre es just quan utilitza les dades dels usuaris de manera que una gran majoria es veu recompensada pero una part d'aquesta es veu afectada negativament.\n",
    "Un exemple podria ser quan es clasifica les dades dels usuaris, alguns usuaris podrien estar una una regio que no li toca i el perjudica."
   ]
  },
  {
   "cell_type": "markdown",
   "metadata": {},
   "source": [
    "**Pregunta 4**: Per què, tot i que en teoria una xarxa Multilayer Perceptron simple pot aprendre qualsevol funció (segons el *Universal Approximation Theorem*) es fan xarxes amb molts layers (*deep learning*)?"
   ]
  },
  {
   "cell_type": "markdown",
   "metadata": {},
   "source": [
    "Perque convergeixen a una solució durant el procediment de muntatge molt més sovint i molt més ràpid i la utilització de menys paràmetres. A més esta comprovat que el rendiment es millor amb més capes de profunditat que en amplada sempre mantenint un equilibri. "
   ]
  },
  {
   "cell_type": "markdown",
   "metadata": {},
   "source": [
    "**Pregunta 5:** Explica què són, en què es basen i per a què serveixen els *filtres de Bloom*. "
   ]
  },
  {
   "cell_type": "markdown",
   "metadata": {},
   "source": [
    "És un filtre basat en diferents funcions hash que ens indician si un element pertany a un conjunt determinat. Els falsos positius són possibles però els falsos negatius no. Una de les aplicacions pot ser per mirar si el nom d'usuari és únic en una web, o si un hem d'escriure un article i mirem si ja ha sigut pujat previament."
   ]
  }
 ],
 "metadata": {
  "kernel_info": {
   "name": "python3"
  },
  "kernelspec": {
   "display_name": "Python 3",
   "language": "python",
   "name": "python3"
  },
  "language_info": {
   "codemirror_mode": {
    "name": "ipython",
    "version": 3
   },
   "file_extension": ".py",
   "mimetype": "text/x-python",
   "name": "python",
   "nbconvert_exporter": "python",
   "pygments_lexer": "ipython3",
   "version": "3.7.3"
  },
  "nteract": {
   "version": "0.15.0"
  }
 },
 "nbformat": 4,
 "nbformat_minor": 2
}
