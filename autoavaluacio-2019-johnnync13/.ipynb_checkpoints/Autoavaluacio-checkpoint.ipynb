{
 "cells": [
  {
   "cell_type": "code",
   "execution_count": 3,
   "metadata": {},
   "outputs": [],
   "source": [
    "import numpy as np\n",
    "import pandas as pd"
   ]
  },
  {
   "cell_type": "markdown",
   "metadata": {},
   "source": [
    "La següent funció retorna el següent càlcul element a element pel vector o matriu d'entrada,\n",
    "\n",
    "$$\\begin{equation} x^2+2x+1 \\end{equation}$$"
   ]
  },
  {
   "cell_type": "code",
   "execution_count": 4,
   "metadata": {},
   "outputs": [],
   "source": [
    "def calcular(x):\n",
    "    \"\"\"\n",
    "    Calcula, per cada element de `x` de forma individual, la funció\n",
    "    x^2+2x+1\n",
    "    \n",
    "    *NO* es poden fer servir bucles ni list-comprehensions\n",
    "    \n",
    "    :param x: np.array amb els elemnts a calcular\n",
    "    :return: np.array amb el càlcul fet\n",
    "    \"\"\"\n",
    "    \"\"\"\n",
    "    Procediment per arribar a la solució:\n",
    "    1er pas: p1 = map( x: x**2 + 2*x + 1, x))\n",
    "    2on pas: return list(map( x: x**2 + 2*x + 1, x))\n",
    "    3er pas: return np.array(list(map(lambda x: x**2 + 2*x + 1, x)))\n",
    "    \"\"\"\n",
    "    return np.array(list(map(lambda x: x**2 + 2*x + 1, x)))"
   ]
  },
  {
   "cell_type": "code",
   "execution_count": 5,
   "metadata": {},
   "outputs": [
    {
     "name": "stdout",
     "output_type": "stream",
     "text": [
      "[[1.42234197 1.92771303]\n",
      " [1.22174816 3.54722105]]\n"
     ]
    }
   ],
   "source": [
    "if __name__ == '__main__':\n",
    "    print(calcular(np.random.random((2, 2))))"
   ]
  },
  {
   "cell_type": "markdown",
   "metadata": {},
   "source": [
    "Una altra forma de normalitzar vectors és fer que la seva mitja sigui 0 i la seva desviació estàndard sigui 1. Donat un vector $x$, el vector normalitzat $\\bar{x}$ es calcula\n",
    "\n",
    "$$\\bar{x} = \\frac{x - \\mu_x}{\\sigma_x}$$\n",
    "\n",
    "On $\\mu_x$ és la mitja i $\\sigma_x$ la desviació estandard"
   ]
  },
  {
   "cell_type": "code",
   "execution_count": 6,
   "metadata": {},
   "outputs": [],
   "source": [
    "def normalitzar(x):\n",
    "    \"\"\"\n",
    "    Normalitza el vector d'entrada `x` segons la definició\n",
    "    anterior.\n",
    "    \n",
    "    *NO* es poden fer servir bucles ni list-comprehensions\n",
    "    \n",
    "    :param x: np.array en forma de vector (unidimensional)\n",
    "    :return: np.array en forma de vector (unidimensional)\n",
    "    \"\"\"\n",
    "    std = np.std(x)\n",
    "    mean = np.mean(x)\n",
    "    return np.array(list(map(lambda x:(x-mean)/std,x)))"
   ]
  },
  {
   "cell_type": "code",
   "execution_count": 7,
   "metadata": {},
   "outputs": [
    {
     "name": "stdout",
     "output_type": "stream",
     "text": [
      "[-1.33724148  1.26230703 -0.82429736 -0.06739045  0.96662226]\n"
     ]
    }
   ],
   "source": [
    "if __name__ == '__main__':\n",
    "    print(normalitzar(np.random.random(5)))"
   ]
  },
  {
   "cell_type": "code",
   "execution_count": 8,
   "metadata": {},
   "outputs": [],
   "source": [
    "def normalitzar_matriu_per_columnes(x):\n",
    "    \"\"\"\n",
    "    Normalitza, segons la definició d'abans, les columnes de la\n",
    "    matriu de forma independent (cada columna es normalitza per la seva\n",
    "    pròpia mitja i desviació estàndard)\n",
    "    \n",
    "    *NO* es poden fer servir bucles ni list-comprehensions\n",
    "    \n",
    "    :param x: np.array en forma matricial (bidimensional)\n",
    "    :return: np.array en forma matricial (bidimensional)\n",
    "    \"\"\"\n",
    "    std = np.std(x, axis=0)\n",
    "    mean = np.mean(x, axis=0)\n",
    "    return np.array(list(map(lambda x:(x-mean)/std, x)))"
   ]
  },
  {
   "cell_type": "code",
   "execution_count": 9,
   "metadata": {},
   "outputs": [
    {
     "name": "stdout",
     "output_type": "stream",
     "text": [
      "[[-0.14600198  1.68438934  1.58048318 -1.51009232 -1.21379187]\n",
      " [-0.23648548 -1.19418004 -0.75027455  1.16110113 -1.22633967]\n",
      " [-0.14315403 -0.75380259  0.64009839 -0.81196835  0.7579818 ]\n",
      " [-1.28057089 -0.12686097 -1.20872171  0.71878966  0.97040011]\n",
      " [ 1.80621238  0.39045427 -0.26158531  0.44216988  0.71174963]]\n"
     ]
    }
   ],
   "source": [
    "if __name__ == '__main__':\n",
    "    print(normalitzar_matriu_per_columnes(np.random.random((5, 5))))"
   ]
  },
  {
   "cell_type": "code",
   "execution_count": 10,
   "metadata": {},
   "outputs": [],
   "source": [
    "def normalitzar_matriu_per_files(x):\n",
    "    \"\"\"\n",
    "    Normalitza, segons la definició d'abans, les files de la\n",
    "    matriu de forma independent (cada fila es normalitza per la seva\n",
    "    pròpia mitja i desviació estàndard)\n",
    "    \n",
    "    *NO* es poden fer servir bucles ni list-comprehensions\n",
    "    \n",
    "    :param x: np.array en forma matricial (bidimensional)\n",
    "    :return: np.array en forma matricial (bidimensional)\n",
    "    \"\"\"\n",
    "    std = np.std(x, axis=1)\n",
    "    mean = np.mean(x, axis=1)\n",
    "    return np.array(list(map(lambda x:((x-mean)/std), x.T))).T\n",
    "    \"\"\"##row_sums = x.sum(axis=1)\n",
    "    ##new_matrix = x / row_sums[:, np.newaxis]\n",
    "    ##return np.array(list(new_matrix))\"\"\""
   ]
  },
  {
   "cell_type": "code",
   "execution_count": 11,
   "metadata": {},
   "outputs": [
    {
     "name": "stdout",
     "output_type": "stream",
     "text": [
      "[[ 1.14687365 -0.01833367 -0.49453004 -1.58956154  0.9555516 ]\n",
      " [-0.7240555  -1.42412214  0.9320382  -0.03978326  1.2559227 ]\n",
      " [ 1.55803414 -0.4493169   0.66680394 -1.30595834 -0.46956284]\n",
      " [-1.16932628  0.85249791  1.06388785  0.49105603 -1.2381155 ]\n",
      " [ 1.66608756  0.478293   -0.48563021 -1.26745336 -0.391297  ]]\n"
     ]
    }
   ],
   "source": [
    "if __name__ == '__main__':\n",
    "    print(normalitzar_matriu_per_files(np.random.random((5, 5))))"
   ]
  },
  {
   "cell_type": "code",
   "execution_count": 12,
   "metadata": {},
   "outputs": [],
   "source": [
    "def calcular_mitja(x):\n",
    "    \"\"\"\n",
    "    Calcula la mitja del vector d'entrada `x`, però qualsevol element\n",
    "    NaN ha de ser tractat com si fos un 0. NO es pot modificar el\n",
    "    vector original que es passa per paràmetre\n",
    "    \n",
    "    *NO* es poden fer servir bucles ni list-comprehensions\n",
    "    \n",
    "    :param x: np.array en forma vectorial (unidimensional)\n",
    "    :return: float amb la mitja\n",
    "    \"\"\"\n",
    "    copy_x = x.copy()\n",
    "    copy_x[np.isnan(copy_x)] = 0\n",
    "    return np.mean(copy_x)"
   ]
  },
  {
   "cell_type": "code",
   "execution_count": 13,
   "metadata": {},
   "outputs": [
    {
     "name": "stdout",
     "output_type": "stream",
     "text": [
      "0.30852446736500655\n"
     ]
    }
   ],
   "source": [
    "if __name__ == '__main__':\n",
    "    vec = np.random.random(5)\n",
    "    vec[np.random.randint(0, 5)] = np.nan\n",
    "    print(calcular_mitja(vec))"
   ]
  },
  {
   "cell_type": "code",
   "execution_count": 14,
   "metadata": {},
   "outputs": [],
   "source": [
    "def crear_dataframe_1(usuari1, usuari2):\n",
    "    \"\"\"\n",
    "    Donada la informació de dos usuaris, `usuari1` i `usuari2`, crea un\n",
    "    pd.DataFrame que contingui cada un d'aquests usuaris com a una fila.\n",
    "    La primera fila ha de tenir per índex \"99\" i la segona \"88\", de tipus STR.\n",
    "    Les columnes han de tenir els següents noms:\n",
    "        \"Nom\", \"Cognom\", \"Data Registre\", \"Bitcoin\"\n",
    "        \n",
    "    :param usuari1: Llista (nativa de python) amb les dades del primer usuari\n",
    "    :param usuari2: Llista (nativa de python) amb les dades del segon usuari\n",
    "    :return: DataFrame amb les dades dels usuaris\n",
    "    \"\"\"\n",
    "    dg = pd.DataFrame(\n",
    "    [\n",
    "        usuari1,\n",
    "        usuari2\n",
    "    ], \n",
    "    columns=['Nom', 'Cognom', 'Data Registre', 'Bitcoin'], index=['99', '88'])\n",
    "    dg.index.astype(str)\n",
    "    return dg"
   ]
  },
  {
   "cell_type": "code",
   "execution_count": 15,
   "metadata": {},
   "outputs": [
    {
     "name": "stdout",
     "output_type": "stream",
     "text": [
      "       Nom  Cognom Data Registre  Bitcoin\n",
      "99    Mike  Strong    2012-02-03     99.0\n",
      "88  Thomas    Weak    2018-01-01      0.4\n"
     ]
    }
   ],
   "source": [
    "if __name__ == '__main__':\n",
    "    print(crear_dataframe_1(\n",
    "        ['Mike', 'Strong', '2012-02-03', 99],\n",
    "        ['Thomas', 'Weak', '2018-01-01', 0.4]\n",
    "    ))"
   ]
  },
  {
   "cell_type": "code",
   "execution_count": 16,
   "metadata": {},
   "outputs": [],
   "source": [
    "def crear_dataframe_2(x, exponent):\n",
    "    \"\"\"\n",
    "    Donat un vector (np.arrray) i un exponent màxim, crea un \n",
    "    DataFrame de pandas on cada columna és la potència\n",
    "    $x^i$ per cada $i$ entre 0 i `exponent` (incloits). Les columnes han de \n",
    "    tenir per nom \"x<i>\", on <i> és la potència\n",
    "    \n",
    "    Per exemple, donat ([1, 2, 3, 4], 2), crearà\n",
    "    x0 | x1 | x2\n",
    "    ------------\n",
    "    1    1    1 \n",
    "    1    2    4\n",
    "    1    3    9\n",
    "    1    4    16\n",
    "    \n",
    "    Els indexs de les files són 0, 1, ..., n; on n és el nombre d'elements\n",
    "    a x\n",
    "    \n",
    "    **Pots fer servir 1 sol bucle per iterar de 0 a exponent, cap més**\n",
    "    \n",
    "    :param x: np.array unidimensional amb les dades per calcular potències\n",
    "    :param exponent: enter >= 0, màxim exponent a fer servir\n",
    "    :return: Un DataFrame de pandas, tal i com s'especifica\n",
    "    \"\"\"\n",
    "    \n",
    "    dg = pd.DataFrame([])\n",
    "    for i in range(exponent+1):\n",
    "        dg['x'+str(i)]= x**i\n",
    "    return dg\n",
    "    "
   ]
  },
  {
   "cell_type": "code",
   "execution_count": 17,
   "metadata": {},
   "outputs": [
    {
     "name": "stdout",
     "output_type": "stream",
     "text": [
      "   x0  x1  x2  x3   x4    x5\n",
      "0   1   1   1   1    1     1\n",
      "1   1   2   4   8   16    32\n",
      "2   1   3   9  27   81   243\n",
      "3   1   4  16  64  256  1024\n"
     ]
    }
   ],
   "source": [
    "if __name__ == '__main__':\n",
    "    print(crear_dataframe_2(np.asarray([1, 2, 3, 4]), 5))"
   ]
  },
  {
   "cell_type": "code",
   "execution_count": 18,
   "metadata": {},
   "outputs": [],
   "source": [
    "def consultar_basic(df):\n",
    "    \"\"\"\n",
    "    Donat un DataFrame amb noms i notes, retorna solament\n",
    "    els noms d'aquells usuaris que tinguin un 5 o més\n",
    "    \n",
    "    :param df: DataFrame amb dos columnes \"Nom\", \"Nota\", amb 1 o més\n",
    "        files. \"Nom\" és una string i \"Nota\" un float\n",
    "    :return: Un pd.Series de Pandas o llista/tupla amb els noms \n",
    "        (i solament els noms) dels alumnes amb 5 o més\n",
    "    \"\"\"\n",
    "    has_improved = df['Nota'] >= 5\n",
    "    return df.loc[has_improved,'Nom']"
   ]
  },
  {
   "cell_type": "code",
   "execution_count": 19,
   "metadata": {},
   "outputs": [
    {
     "name": "stdout",
     "output_type": "stream",
     "text": [
      "0    Antonio\n",
      "Name: Nom, dtype: object\n"
     ]
    }
   ],
   "source": [
    "if __name__ == '__main__':\n",
    "    print(consultar_basic(pd.DataFrame({\n",
    "        'Nom': ['Antonio', 'Mireia'],\n",
    "        'Nota': [5.1, 0.1]\n",
    "    })))"
   ]
  },
  {
   "cell_type": "code",
   "execution_count": 20,
   "metadata": {},
   "outputs": [],
   "source": [
    "def consultar_dificil(df):\n",
    "    \"\"\"\n",
    "    De totes les files d'un DataFrame, retorna l'índex d'aquella que tingui \n",
    "    el menor nombre de NaNs\n",
    "    \n",
    "    *Es pot fer sense bucles, consulta la documentació de Pandas, la cheetsheet\n",
    "    o stackoverflow*\n",
    "    \n",
    "    :param df: DataFrame sobre el que operar, les files contenen floats o NaN\n",
    "    :return: L'índex (int, ja ve donat) de la fila amb menys NaNs\n",
    "    \"\"\"\n",
    "    \n",
    "    dataframe = df.isna().sum(axis=1)\n",
    "    return dataframe.idxmin()"
   ]
  },
  {
   "cell_type": "code",
   "execution_count": 21,
   "metadata": {},
   "outputs": [
    {
     "name": "stdout",
     "output_type": "stream",
     "text": [
      "1\n"
     ]
    }
   ],
   "source": [
    "if __name__ == '__main__':\n",
    "    print(consultar_dificil(pd.DataFrame([\n",
    "        [0, np.nan, 3.0, 2, np.nan],\n",
    "        [np.nan, 1, 2, 3, 4],\n",
    "        [np.nan, 0, 0, np.nan, np.nan]\n",
    "    ])))"
   ]
  }
 ],
 "metadata": {
  "kernelspec": {
   "display_name": "Python 3",
   "language": "python",
   "name": "python3"
  },
  "language_info": {
   "codemirror_mode": {
    "name": "ipython",
    "version": 3
   },
   "file_extension": ".py",
   "mimetype": "text/x-python",
   "name": "python",
   "nbconvert_exporter": "python",
   "pygments_lexer": "ipython3",
   "version": "3.7.4"
  }
 },
 "nbformat": 4,
 "nbformat_minor": 2
}
